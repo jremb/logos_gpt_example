{
 "cells": [
  {
   "cell_type": "code",
   "execution_count": null,
   "id": "ba7af915-7010-4d22-a4eb-43eb2bf24858",
   "metadata": {},
   "outputs": [],
   "source": [
    "# If there is a ModuleNotFound error, try uncommenting\n",
    "# and running the below line\n",
    "#%pip install openai"
   ]
  },
  {
   "cell_type": "markdown",
   "id": "d266414e-13ad-46f0-a782-c1f3e0152199",
   "metadata": {},
   "source": [
    "It's assumed that you have an OpenAI API key and that this key is assigned to the environment variable `OPENAI_API_KEY`. If these assumptions don't hold, change line 15 in `openai_client.py` accordingly.\n",
    "\n",
    "In the code below, we instantiate the OpenAIClient with a model. If you're unsure of which models are available, you can instantiate the client without passing it a model then run `client.list_models()` to get back a list of available models:\n",
    "```python\n",
    "client = OpenAIClient() # No model given\n",
    "available_models = client.list_models() # Returns a List[dict] of available models\n",
    "some_model = ... # pick some model from the `available_models`\n",
    "client.model = some_model\n",
    "```"
   ]
  },
  {
   "cell_type": "code",
   "execution_count": 1,
   "id": "e70ef0b2-c18d-4695-bf82-06b9bb635b11",
   "metadata": {},
   "outputs": [],
   "source": [
    "from openai_client import OpenAIClient\n",
    "\n",
    "# If you're unsure of which models are available,\n",
    "# you can instantiate the client without passing it a model\n",
    "# then run `client.list_models()` to get back a list of \n",
    "# available models\n",
    "model = \"gpt-4-1106-preview\"\n",
    "gpt4 = OpenAIClient(model)"
   ]
  },
  {
   "cell_type": "markdown",
   "id": "37008c78-1a53-4953-97f4-6a1b6fa27d19",
   "metadata": {},
   "source": [
    "The example `request_completion` implementation does not take every available parameter for the chat endpoint. \n",
    "\n",
    "See here for endpoint details: https://platform.openai.com/docs/api-reference/chat\n",
    "\n",
    "See the `openai_client.py` for the example code"
   ]
  },
  {
   "cell_type": "code",
   "execution_count": 2,
   "id": "bcad45aa-4498-42dc-a7dc-fbdd6d345da1",
   "metadata": {},
   "outputs": [],
   "source": [
    "# Set up some parameters we'll use for the chat endpoint\n",
    "temp = 0.7\n",
    "max_tokens = 3_096\n",
    "\n",
    "# Cf. logos_app.py for details on the `search_logos_library` function\n",
    "tools = [\n",
    "    {\n",
    "        \"type\": \"function\",\n",
    "        \"function\": {\n",
    "            \"name\": \"search_logos_library\",\n",
    "            \"description\": \"Searches the LogosApplication library for a given query and returns a JSON string of the search results\",\n",
    "            \"parameters\": {\n",
    "                \"type\": \"object\",\n",
    "                \"properties\": {\n",
    "                    \"query\": {\n",
    "                        \"type\": \"string\",\n",
    "                        \"description\": \"The search term to query in the LogosApplication library\",\n",
    "                    },\n",
    "                },\n",
    "                \"required\": [\"query\"],\n",
    "            },\n",
    "        },\n",
    "    }\n",
    "]\n",
    "\n",
    "sys_msg = \"You are a helpful assistant.\"\n",
    "gpt4.set_sys_msg(sys_msg)"
   ]
  },
  {
   "cell_type": "markdown",
   "id": "ef788f9e-dc5d-49c1-82ed-ec5a03e82790",
   "metadata": {},
   "source": [
    "The `OpenAIClient` has a `messages` list that is an empty list upon instantiation. This will be sent to the OpenAI API when using the `chat.completion.create` endpoint.\n",
    "\n",
    "To check the messages list that will be sent use the `display_messages` method:\n",
    "```python\n",
    "gpt4.display_messages()\n",
    "```\n",
    "Clear the messages with the `clear_messages` method:\n",
    "```python\n",
    "gpt4.clear_messages()\n",
    "```\n",
    "The `messages` list will be automatically updated with the assistant's response after sending.\n",
    "\n",
    "In the code above we set the standard example for a system message: 'You are a helpful assistant.' \n",
    "\n",
    "Add a user message:"
   ]
  },
  {
   "cell_type": "code",
   "execution_count": 3,
   "id": "5d4c2f81-306f-4d9a-8a4b-32e8a663713f",
   "metadata": {},
   "outputs": [],
   "source": [
    "# The AI won't choose to make use of Logos (call our function) if it's not deemed relevant, \n",
    "# so we give a relevant example prompt. \n",
    "user_msg = \"What resources in my Logos library mention 'idolatry'?\"\n",
    "gpt4.add_user_msg(user_msg)"
   ]
  },
  {
   "cell_type": "markdown",
   "id": "5d2ce538-454a-45c7-b7ca-b3ae743713c8",
   "metadata": {},
   "source": [
    "Finally, execute the request. \n",
    "\n",
    "Note that making use of a tool (calling a function as it currently stands) results in two requests: \n",
    "1) The initial request where the AI will decide to call a function.\n",
    "2) Once we have the result(s) of the function, another request containing the function result(s) so that the AI can make use of the information.\n",
    "\n",
    "Any second request is handled automatically within the `request_completion` method. \n",
    "\n",
    "When using the Logos COM API, we have to launch the Logos application. Logos startup in itself can take several seconds. Thus, the entire process of sending a request, getting a response to call a function, launching Logos, executing our specific Logos task, sending another request to the AI with the function results, and then getting our final response from the AI can take a while! You can speed this process up by having Logos already running."
   ]
  },
  {
   "cell_type": "code",
   "execution_count": 4,
   "id": "657bc152-803d-484f-b402-451f8683e1b2",
   "metadata": {
    "scrolled": true
   },
   "outputs": [
    {
     "name": "stdout",
     "output_type": "stream",
     "text": [
      "Here are some resources in your Logos library that mention 'idolatry':\n",
      "\n",
      "1. Christian History Magazine—Issue 14: Money in Christian History: Part I\n",
      "2. Calvin’s Calvinism: A Defence of the Secret Providence of God\n",
      "3. 1 and 2 Kings\n",
      "4. Dictionary of Scripture and Ethics\n",
      "5. The Purpose of God: Ephesians\n",
      "6. Themelios: Volume 24, No. 3, June 1999\n",
      "7. Ante-Nicene Fathers 3: Latin Christianity: Its Founder, Tertullian\n",
      "8. God of Our Fathers: Classical Theism for the Contemporary Church\n",
      "\n",
      "These resources should provide a variety of perspectives and in-depth discussions on the topic of idolatry.\n",
      "None\n"
     ]
    }
   ],
   "source": [
    "gpt4.request_completion(temp=temp, max_tokens=max_tokens, tools=tools)"
   ]
  }
 ],
 "metadata": {
  "kernelspec": {
   "display_name": "Python 3 (ipykernel)",
   "language": "python",
   "name": "python3"
  },
  "language_info": {
   "codemirror_mode": {
    "name": "ipython",
    "version": 3
   },
   "file_extension": ".py",
   "mimetype": "text/x-python",
   "name": "python",
   "nbconvert_exporter": "python",
   "pygments_lexer": "ipython3",
   "version": "3.11.2"
  }
 },
 "nbformat": 4,
 "nbformat_minor": 5
}
